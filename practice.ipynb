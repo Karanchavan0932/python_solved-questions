{
 "cells": [
  {
   "cell_type": "markdown",
   "metadata": {},
   "source": [
    "* shortcuts for v.s code\n",
    "\n",
    "shift+arrow(select words by line)\n",
    "\n",
    "ctrl+backslash(comment out)\n",
    "\n",
    "shift+alt+arrow(copy paste instant)"
   ]
  },
  {
   "cell_type": "code",
   "execution_count": null,
   "metadata": {},
   "outputs": [],
   "source": [
    "# print(\"hello world\")"
   ]
  },
  {
   "cell_type": "code",
   "execution_count": null,
   "metadata": {},
   "outputs": [],
   "source": [
    "#simple calculator of two number\n",
    "a=20\n",
    "b=10\n",
    "print(a*b)\n",
    "print(a+b)\n",
    "print(a-b)\n",
    "print(a/b)\n",
    "print(a//b)\n",
    "print(a%b) \n"
   ]
  },
  {
   "cell_type": "code",
   "execution_count": null,
   "metadata": {},
   "outputs": [],
   "source": [
    "#type casting\n",
    "x = str(3)    # x will be '3'\n",
    "y = int(3)    # y will be 3\n",
    "z = float(3)  # z will be 3.0\n"
   ]
  },
  {
   "cell_type": "code",
   "execution_count": null,
   "metadata": {},
   "outputs": [],
   "source": [
    "# getting the type\n",
    "x = 5\n",
    "y = \"John\"\n",
    "print(type(x))\n",
    "print(type(y))"
   ]
  },
  {
   "cell_type": "code",
   "execution_count": null,
   "metadata": {},
   "outputs": [],
   "source": [
    "# indexing\n",
    "x = \"karan chavan\"\n",
    "print(x[0])\n",
    "print(x[1])\n",
    "print(x[2])\n",
    "print(x[3])\n",
    "print(x[4])\n",
    "print(x[5])\n",
    "print(x[6])\n",
    "print(x[7])\n",
    "print(x[8])\n",
    "print(x[9])\n",
    "print(x[10])\n",
    "print(x[11])"
   ]
  },
  {
   "cell_type": "code",
   "execution_count": null,
   "metadata": {},
   "outputs": [],
   "source": [
    "# printing all character through loop\n",
    "x = \"karan chavan\"\n",
    "for character in x:\n",
    "    print(character)"
   ]
  },
  {
   "cell_type": "code",
   "execution_count": null,
   "metadata": {},
   "outputs": [],
   "source": [
    "#slicing of strings\n",
    "\n",
    "x = \"karan,sahyadri,aditya,vaishnavi,harshita,sujit,kaveri\"\n",
    "print(x[0:5])\n",
    "print(x[6:14])\n",
    "print(x[15:21])\n",
    "print(x[22:31])\n",
    "print(x[32:41])"
   ]
  },
  {
   "cell_type": "code",
   "execution_count": null,
   "metadata": {},
   "outputs": [],
   "source": [
    "#functions\n",
    "\n",
    "#lenth\n",
    "x = \"karan,sahyadri,aditya,vaishnavi,harshita\"\n",
    "print(len(x))\n",
    "\n",
    "#datatype\n",
    "print(type(x))\n",
    "\n",
    "#upper case convertion\n",
    "print(x.upper())\n",
    "\n",
    "#lower case convertion\n",
    "print(x.lower())\n",
    "#NOTE-STRINGS ARE INMUTABLE HENCE CAN'T BE CHANGE\n",
    "\n",
    "#rstrip \n",
    "print(x.rstrip(\"a\"))\n",
    "\n",
    "#replace\n",
    "print(x.replace(\"karan\",\"kaveri\"))\n",
    "\n",
    "#split(convert into list)\n",
    "print(x.split(\",\"))\n",
    "\n",
    "#capitaliaze(to make first letter capital)\n",
    "print(x.capitalize())\n",
    "\n",
    "#center(make string selected character by adding space)\n",
    "print(x.center(50))\n",
    "\n",
    "#count(tell count of word)\n",
    "print(x.count(\"a\"))\n",
    "\n",
    "#endswith(give boolean value if condtion true)\n",
    "print(x.endswith(\"a\"))\n",
    "\n",
    "#find(finds the index of given word)\n",
    "print(x.find(\"ya\"))\n",
    "\n",
    "#index(same as find but gave error if word is not found whereas find give -1)\n",
    "print(x.index(\"ya\"))\n",
    "\n",
    "#isalnum(if not alphanumeric then give false)\n",
    "print(x.isalnum())\n",
    "\n",
    "#isalpha(also include small letters and give true if not other sign and symbol are found)\n",
    "print(x.isalpha())\n",
    "\n",
    "#islower\n",
    "print(x.islower())\n",
    "\n",
    "#isupper\n",
    "print(x.isupper())\n",
    "\n",
    "#isprintable(give true if all values are printable else give false.eg=/n)\n",
    "print(x.isprintable())\n",
    "\n",
    "#isspace(is white spaces found then return true)\n",
    "print(x.isspace())\n",
    "\n",
    "#istitle(return true if all words start with capital letter)\n",
    "print(x.istitle())\n",
    "\n",
    "#startwith()\n",
    "print(x.startswith(\"ka\"))\n",
    "\n",
    "#swapcase(convert lower to upper and upper to lower)\n",
    "print(x.swapcase())\n",
    "\n",
    "#title(convert 1st letter to capital)\n",
    "print(x.title())\n",
    "\n"
   ]
  },
  {
   "cell_type": "code",
   "execution_count": null,
   "metadata": {},
   "outputs": [],
   "source": [
    "# PROBLEM SET 1\n",
    " \n",
    "# 1 print any poem\n",
    "print(\"\"\"Twinkle, twinkle, little star,\n",
    "How I wonder what you are!\n",
    "Up above the world so high,\n",
    "Like a diamond in the sky.\n",
    "\n",
    "When the blazing sun is gone,\n",
    "When he nothing shines upon,\n",
    "Then you show your little light,\n",
    "Twinkle, twinkle, all the night.\n",
    "\n",
    "Then the trav'ller in the dark,\n",
    "Thanks you for your tiny spark,\n",
    "He could not see which way to go,\n",
    "If you did not twinkle so.\n",
    "\n",
    "In the dark blue sky you keep,\n",
    "And often thro' my curtains peep,\n",
    "For you never shut your eye,\n",
    "Till the sun is in the sky.\n",
    "\n",
    "'Tis your bright and tiny spark,\n",
    "Lights the trav'ller in the dark:\n",
    "Tho' I know not what you are,\n",
    "Twinkle, twinkle, little star.\n",
    "\"\"\")\n",
    "\n",
    "# PRINT A TABLE OF 5 USING REPEL\n",
    "\n",
    "\n",
    "\n",
    "\n",
    "# install an external module and use it in your python program\n",
    "\n"
   ]
  },
  {
   "cell_type": "code",
   "execution_count": 2,
   "metadata": {},
   "outputs": [],
   "source": [
    "# install an external module and use it in your python program\n",
    "import pyttsx3\n",
    "engine = pyttsx3.init()\n",
    "engine.say(\"good morning aarti, how can i help you\")\n",
    "engine.runAndWait()"
   ]
  },
  {
   "cell_type": "code",
   "execution_count": null,
   "metadata": {},
   "outputs": [],
   "source": [
    "\n",
    "# Write a python program to print the contents of a directory using the OS module Search online for the function which does that\n",
    "    \n",
    "import os \n",
    "\n",
    "# Specify the directory you want to list\n",
    "directory_path = '/'\n",
    "\n",
    "#list all files and directories in the specified path\n",
    "contents = os.listdir(directory_path)\n",
    "\n",
    "#Print each file and directory name\n",
    "for item in contents:\n",
    "    print(item)"
   ]
  },
  {
   "cell_type": "code",
   "execution_count": null,
   "metadata": {},
   "outputs": [],
   "source": [
    "#for printing table in full form\n",
    "l = int(input(\"enter any no:\"))\n",
    "\n",
    "for i in range(1,11):\n",
    "    print(f\"{l} x {i} = {l * i}\")"
   ]
  },
  {
   "cell_type": "code",
   "execution_count": null,
   "metadata": {},
   "outputs": [],
   "source": [
    "#for printing name from list in specific order according to condition\n",
    "l = [\"karan\",\"sujit\",\"aditya\",\"vivek\",\"sahyadri\",\"vaishnavi\",\"harshita\",\"kaveri\"]\n",
    "\n",
    "for name in l:\n",
    "    if(name.startswith(\"k\")):\n",
    "        print(f\"hello {name}\")\n",
    "        \n",
    "\n",
    "for name in l:\n",
    "    if(name.endswith(\"i\")):\n",
    "        print(f\"hello {name}\")"
   ]
  },
  {
   "cell_type": "code",
   "execution_count": null,
   "metadata": {},
   "outputs": [],
   "source": [
    "# for checking no is prime or not\n",
    "n = int(input(\"enter any no:\"))\n",
    "\n",
    "for i in range(2,n):\n",
    "    if(n%i)==0:\n",
    "        print(\"no is not a prime no\")\n",
    "        break\n",
    "else:\n",
    "    print(\"no is prime\")"
   ]
  },
  {
   "cell_type": "code",
   "execution_count": null,
   "metadata": {},
   "outputs": [],
   "source": [
    "# to print sum of all no. till selected no.\n",
    "n = int(input(\"enter any no:\"))\n",
    "i = 1\n",
    "sum = 0\n",
    "while (i<=n):\n",
    "    sum += i\n",
    "    i += 1\n",
    "\n",
    "print(sum)\n",
    "                    "
   ]
  },
  {
   "cell_type": "code",
   "execution_count": null,
   "metadata": {},
   "outputs": [],
   "source": [
    "# for factorial\n",
    "n = int(input(\"enter any no:\"))\n",
    "i = 1\n",
    "fact=1\n",
    "while(i<=n):\n",
    "    fact=(fact*i)\n",
    "    i+=1\n",
    "print(fact)\n"
   ]
  },
  {
   "cell_type": "code",
   "execution_count": null,
   "metadata": {},
   "outputs": [],
   "source": [
    "# for pyramid star pattern\n",
    "n = int(input(\"enter value of n:\"))\n",
    "i=1\n",
    "while(i<=n):\n",
    "    print(\" \" * (n - i), end=\"\")\n",
    "    print(\"*\" * (2 * i - 1), end=\"\")\n",
    "    print(\"\")\n",
    "    i+=1\n"
   ]
  },
  {
   "cell_type": "code",
   "execution_count": null,
   "metadata": {},
   "outputs": [],
   "source": [
    "# for increasing ladder star pattern\n",
    "n = int(input(\"enter value of n:\"))\n",
    "i=1\n",
    "while(i<=n):\n",
    "    print(\"*\" * (i), end=\"\")\n",
    "    print(\"\")\n",
    "    i+=1\n"
   ]
  },
  {
   "cell_type": "code",
   "execution_count": null,
   "metadata": {},
   "outputs": [],
   "source": [
    "# for void star box pattern\n",
    "n = int(input(\"enter value of n:\"))\n",
    "i=1\n",
    "while(i<=n):\n",
    "    if(i==1 or i==n):\n",
    "        print(\"*\" * (n),end=\"\")\n",
    "    else:\n",
    "        print(\"*\",end=\"\")\n",
    "        print(\" \" * (n-2),end=\"\")\n",
    "        print(\"*\",end=\"\")\n",
    "\n",
    "    print(\"\")\n",
    "    i+=1\n",
    "     "
   ]
  },
  {
   "cell_type": "code",
   "execution_count": null,
   "metadata": {},
   "outputs": [],
   "source": [
    "# table in reversed order\n",
    "n = int(input(\"enter value of n:\"))\n",
    "i=1\n",
    "while(i<11):\n",
    "    print(n*(11-i))\n",
    "    i+=1\n"
   ]
  },
  {
   "cell_type": "markdown",
   "metadata": {},
   "source": [
    "* FUNCTION AND RECURSIONS"
   ]
  },
  {
   "cell_type": "code",
   "execution_count": null,
   "metadata": {},
   "outputs": [],
   "source": [
    "# program to find out greatest no among given program\n",
    "def gatn():\n",
    "    if(a>b and a>c):\n",
    "        return a\n",
    "    elif(b>c and b>a):\n",
    "        return b\n",
    "    else:\n",
    "        return c\n",
    "a=int(input(\"enter value of a:\"))\n",
    "b=int(input(\"enter value of b:\"))\n",
    "c=int(input(\"enter value of c:\"))\n",
    "avg =  gatn()\n",
    "print(f\"greatest among three no is:{avg}\")"
   ]
  },
  {
   "cell_type": "code",
   "execution_count": null,
   "metadata": {},
   "outputs": [],
   "source": [
    "# for farenheit to celsius\n",
    "def f_to_c():\n",
    "     return 5*(f-32)/9\n",
    "    \n",
    "f = int(input(\"enter value of f: \"))\n",
    "\n",
    "print(f_to_c())\n",
    "\n",
    "# or\n",
    "def f_to_c():\n",
    "    c = 5*(f-32)/9\n",
    "    return c\n",
    "    \n",
    "f = int(input(\"enter value of f: \"))\n",
    "c = f_to_c()\n",
    "print(f\"{round(c,2)}\")\n"
   ]
  },
  {
   "cell_type": "code",
   "execution_count": null,
   "metadata": {},
   "outputs": [],
   "source": [
    "# to prevent new line in python for function\n",
    "def no_nl():\n",
    "    print(\"a\")\n",
    "    print(\"b\")\n",
    "    print(\"c\",end=\"\")\n",
    "    print(\"d\",end=\"\")\n",
    "\n",
    "no_nl()"
   ]
  },
  {
   "cell_type": "code",
   "execution_count": null,
   "metadata": {},
   "outputs": [],
   "source": [
    "# for sum of n natural no. =using recursion\n",
    "def sum(n):\n",
    "    if(n==1):\n",
    "        return 1\n",
    "    return sum(n-1)+n\n",
    "n = int(input(\"enter value of n : \"))\n",
    "print(sum(n))"
   ]
  },
  {
   "cell_type": "markdown",
   "metadata": {},
   "source": [
    "* FILE I/O"
   ]
  },
  {
   "cell_type": "code",
   "execution_count": null,
   "metadata": {},
   "outputs": [],
   "source": [
    "# to check whether the word is present in file or not\n",
    "f = open(\"poem.txt\")\n",
    "content = f.read()\n",
    "if(\"twinkle\" in content):\n",
    "    print(\"the word is present in the poem\")\n",
    "else:\n",
    "     print(\"the word is not present in the poem\")\n",
    "f.close()"
   ]
  },
  {
   "cell_type": "code",
   "execution_count": null,
   "metadata": {},
   "outputs": [],
   "source": [
    "'''a function game is applied and playing a game and high score is storing in a file highscore.txt\n",
    "and a new score greater than highscore replace it'''\n",
    "import random\n",
    "\n",
    "def game():\n",
    "\n",
    "    print(\"you are playing a game...\")\n",
    "\n",
    "    score=random.randint(0,10000000)\n",
    "    with open(\"highscore.txt\") as f:\n",
    "        highscore=f.read()\n",
    "        if(highscore!=\"\"):\n",
    "            highscore=int(highscore)\n",
    "        else:\n",
    "            highscore = 0\n",
    "    print(f\"your score is : {score}\")\n",
    "    if(score>highscore):\n",
    "        with open(\"highscore.txt\",\"w\") as f:\n",
    "            f.write(str(score))\n",
    "        return score\n",
    "\n",
    "\n",
    "game()\n",
    "\n"
   ]
  },
  {
   "cell_type": "code",
   "execution_count": null,
   "metadata": {},
   "outputs": [],
   "source": [
    "# to print multiple file with seperate tables from 2 to 20 \n",
    "def generatetables(n):\n",
    "    table=\"\"\n",
    "    for i in range(1,11):\n",
    "        table += f\"{n} x {i} = {n*i}\\n\"\n",
    "    with open(f\"tables/table{n}\",\"w\") as f:\n",
    "        f.write(table)\n",
    "\n",
    "for i in range(2,21):\n",
    "    generatetables(i)\n",
    "\n",
    "\n"
   ]
  },
  {
   "cell_type": "markdown",
   "metadata": {},
   "source": [
    "* OBJECT ORIENTED PROGRAMMING(OOPs)"
   ]
  },
  {
   "cell_type": "code",
   "execution_count": null,
   "metadata": {},
   "outputs": [],
   "source": [
    "# simple class defining\n",
    "class aiml:\n",
    "    section = \"aiml\"\n",
    "    def __init__(self,name,roll_no,birthdate):\n",
    "        self.name = name\n",
    "        self.roll_no = roll_no\n",
    "        self.birthdate = birthdate\n",
    "\n",
    "id1 = aiml(\"karan\",\"bs1710\",\"12 sept\")\n",
    "print(id1.name,id1.roll_no,id1.birthdate,id1.section)\n",
    "id2 = aiml(\"sujit\",\"bs1722\",\"12 oct\")\n",
    "print(id2.name,id2.roll_no,id2.birthdate,id2.section)\n",
    "id3 = aiml(\"aditya\",\"bs1707\",\"16\")\n",
    "print(id3.name,id3.roll_no,id3.birthdate,id3.section)\n",
    "id4 = aiml(\"vaishnavi\",\"bs1715\",\"29 oct\")\n",
    "print(id4.name,id4.roll_no,id4.birthdate,id4.section)\n",
    "id5 = aiml(\"sahyadri\",\"bs1708\",\"17 sept\")\n",
    "print(id5.name,id5.roll_no,id5.birthdate,id5.section)\n",
    "id6 = aiml(\"kaveri\",\"bs1712\",\"1 dec\")\n",
    "print(id6.name,id6.roll_no,id6.birthdate,id6.section)\n",
    "id7 = aiml(\"harshita\",\"bs1704\",\"16 may\")\n",
    "print(id7.name,id7.roll_no,id7.birthdate,id7.section)"
   ]
  },
  {
   "cell_type": "code",
   "execution_count": null,
   "metadata": {},
   "outputs": [],
   "source": [
    "# calculator on basis of OOPs\n",
    "class calculator:\n",
    "    def __init__(self,n):\n",
    "        self.n = n\n",
    "    def square(self):\n",
    "        print(f\"the sqaure is {self.n*self.n}\")\n",
    "    def cube(self):\n",
    "        print(f\"the cube os {self.n*self.n*self.n}\")\n",
    "    def squareroot(self):\n",
    "        print(f\"the sqaure root is {self.n**1/2}\")\n",
    "    \n",
    "a = calculator(4)\n",
    "a.square()\n",
    "a.cube()\n",
    "a.squareroot()\n",
    "        "
   ]
  },
  {
   "cell_type": "code",
   "execution_count": null,
   "metadata": {},
   "outputs": [],
   "source": [
    "# train status using OOPs\n",
    "class ticket:\n",
    "    def __init__(self,trainNo):\n",
    "        self.trainNo = trainNo\n",
    "    def book(self,trainNo):\n",
    "        print(f\"The ticket for train {self.trainNo} is booked\")\n",
    "    def destination(self,fro,to):\n",
    "        print(f\"The train is going from {fro} to {to}\")\n",
    "    @staticmethod\n",
    "    def time_check():\n",
    "        print(\"the train is on time\")\n",
    "a = ticket(1710)\n",
    "a.book(1710)\n",
    "a.destination(\"delhi\",\"pune\")\n",
    "a.time_check()"
   ]
  },
  {
   "cell_type": "markdown",
   "metadata": {},
   "source": [
    "* Inheritance and more about oops"
   ]
  },
  {
   "cell_type": "code",
   "execution_count": 2,
   "metadata": {},
   "outputs": [
    {
     "name": "stdout",
     "output_type": "stream",
     "text": [
      "ITC python\n"
     ]
    }
   ],
   "source": [
    "# simple inheritance\n",
    "\n",
    "class employ:\n",
    "    company = \"ITC\"\n",
    "    name = \"default name\"\n",
    "    \n",
    "    def show(self):\n",
    "        name = \"default name\"\n",
    "        company = \"ITC\"\n",
    "        print(f\"the name of company is {self.company},And the employ name is {self.name}\")\n",
    "    \n",
    "class programmer(employ):\n",
    "    company= \"ITC infotech\"\n",
    "    language = \"python\"\n",
    "    def lang(self):\n",
    "        \n",
    "\n",
    "        print(f\"The programmer use {self.language} as a coding language\")\n",
    "\n",
    "a = employ()\n",
    "b = programmer()\n",
    "print(a.company,b.language)\n",
    "\n"
   ]
  },
  {
   "cell_type": "code",
   "execution_count": 3,
   "metadata": {},
   "outputs": [
    {
     "name": "stdout",
     "output_type": "stream",
     "text": [
      "the name of company is ITC,And the employ name is default name\n"
     ]
    }
   ],
   "source": [
    "#multiinheritance\n",
    "\n",
    "\n",
    "class employ:\n",
    "    company = \"ITC\"\n",
    "    name = \"default name\"\n",
    "    \n",
    "    def show(self):\n",
    "        name = \"default name\"\n",
    "        company = \"ITC\"\n",
    "        print(f\"the name of company is {self.company},And the employ name is {self.name}\")\n",
    "    \n",
    "class programmer():\n",
    "    company= \"ITC infotech\"\n",
    "    language = \"python\"\n",
    "    def lang(self):\n",
    "        \n",
    "\n",
    "        print(f\"The programmer use {self.language} as a coding language\")\n",
    "\n",
    "class coder(programmer,employ):\n",
    "    name = \"karan\"\n",
    "    language = \"default languages\"\n",
    "    def printlanguage(self):\n",
    "        \n",
    "        \n",
    "        print(f\" the name of the {self.name}, and the language us by him is {self.language}\")\n",
    "    \n",
    "a = employ() \n",
    "\n",
    "a.show()\n",
    "\n",
    "\n",
    "\n",
    "\n"
   ]
  },
  {
   "cell_type": "code",
   "execution_count": 9,
   "metadata": {},
   "outputs": [
    {
     "name": "stdout",
     "output_type": "stream",
     "text": [
      "the contructor of employ\n",
      "the contructor of programmer\n",
      "the contructor of manager\n",
      "3\n"
     ]
    }
   ],
   "source": [
    "# multilevel inheritance\n",
    "class employ:\n",
    "    a = 1\n",
    "    def __init__(self):\n",
    "        print(\"the contructor of employ\")\n",
    "\n",
    "class programmer(employ):\n",
    "    b = 2\n",
    "    def __init__(self):\n",
    "        super().__init__()\n",
    "        print(\"the contructor of programmer\")\n",
    "class manager(programmer):\n",
    "    def __init__(self):\n",
    "        super().__init__()\n",
    "        print(\"the contructor of manager\")\n",
    "    \n",
    "    c = 3\n",
    "\n",
    "o = manager()\n",
    "print(o.c)\n",
    "\n",
    "\n"
   ]
  },
  {
   "cell_type": "code",
   "execution_count": null,
   "metadata": {},
   "outputs": [],
   "source": [
    "#  class method attribute:\n",
    "class company:    \n",
    "    a = 1\n",
    "    @classmethod\n",
    "    def show(self):\n",
    "        print(f\" the class value is {self.a}\")\n",
    "\n",
    "o = company()\n",
    "o.a= 45\n",
    "o.show()"
   ]
  },
  {
   "cell_type": "code",
   "execution_count": null,
   "metadata": {},
   "outputs": [],
   "source": [
    "# create a class (2-d vector) and use it two create another class  reprenting(3-d vector)\n",
    "class twoDvector:\n",
    "    def __init__(self,i,j):\n",
    "        self.i = i\n",
    "        self.j = j\n",
    "    \n",
    "    def show(self):\n",
    "        print(f\"the vectors are {self.i}i and {self.j}j\")\n",
    "\n",
    "class threeDvector(twoDvector):\n",
    "    \n",
    "    def __init__(self, i, j,k):\n",
    "        super().__init__(i,j)\n",
    "        self.k = k\n",
    "\n",
    "    def show(self):\n",
    "        print(f\"the vectors are {self.i}i + {self.j}j + {self.k}k \")\n",
    "\n",
    "a = twoDvector(1,2)\n",
    "a.show()\n",
    "b = threeDvector(5,7,2)\n",
    "b.show()\n"
   ]
  },
  {
   "cell_type": "code",
   "execution_count": null,
   "metadata": {},
   "outputs": [],
   "source": [
    "class animals:\n",
    "    pass\n",
    "class pets(animals):\n",
    "    pass\n",
    "class dogs(pets):\n",
    "    @staticmethod\n",
    "    def bark():\n",
    "        print(\"bow bow!\")\n",
    "\n",
    "\n",
    "a = dogs()\n",
    "a.bark"
   ]
  },
  {
   "cell_type": "markdown",
   "metadata": {},
   "source": [
    "* Advance python"
   ]
  },
  {
   "cell_type": "code",
   "execution_count": null,
   "metadata": {},
   "outputs": [],
   "source": [
    "try:\n",
    "    with open(\"1.txt\",\"r\") as f:\n",
    "        print(f.read())\n",
    "except Exception as e:\n",
    "    print(e)\n",
    "try:\n",
    "    with open(\"2.txt\",\"r\") as f:\n",
    "        print(f.read())\n",
    "except Exception as e:\n",
    "    print(e)\n",
    "try:\n",
    "    with open(\"3.txt\",\"r\") as f:\n",
    "      print(f.read())\n",
    "except Exception as e:\n",
    "    print(e) \n",
    "\n",
    "print(\"thank you\")"
   ]
  },
  {
   "cell_type": "code",
   "execution_count": null,
   "metadata": {},
   "outputs": [],
   "source": [
    "l = [3,5,8,1,15,37,87]\n",
    "for i,item in enumerate(l):\n",
    "    if i ==3 or i == 1 or i== 4:\n",
    "        print(item)"
   ]
  },
  {
   "cell_type": "code",
   "execution_count": null,
   "metadata": {},
   "outputs": [],
   "source": [
    "n =5\n",
    "\n",
    "table = [n*i for i in range(1,11)]\n",
    "\n",
    "print(table)"
   ]
  },
  {
   "cell_type": "code",
   "execution_count": null,
   "metadata": {},
   "outputs": [],
   "source": [
    "try:\n",
    "    a = int(input(\"enter value of a: \"))\n",
    "    b = int(input(\"enter value of b: \"))\n",
    "    print(a/b)\n",
    "except ZeroDivisionError as e:\n",
    "    print(\"infinite\")\n",
    "    "
   ]
  },
  {
   "cell_type": "code",
   "execution_count": null,
   "metadata": {},
   "outputs": [],
   "source": [
    "n = int(input(\"enter the value of n :\"))\n",
    "\n",
    "\n",
    "table = [n*i for i in range(1,11)]\n",
    "\n",
    "with open (\"Tables.txt\" , \"a\") as f:\n",
    "    f.write(str(table) + \"\\n\")"
   ]
  },
  {
   "cell_type": "code",
   "execution_count": null,
   "metadata": {},
   "outputs": [],
   "source": []
  },
  {
   "cell_type": "code",
   "execution_count": null,
   "metadata": {},
   "outputs": [],
   "source": []
  },
  {
   "cell_type": "code",
   "execution_count": null,
   "metadata": {},
   "outputs": [],
   "source": []
  },
  {
   "cell_type": "code",
   "execution_count": null,
   "metadata": {},
   "outputs": [],
   "source": []
  }
 ],
 "metadata": {
  "kernelspec": {
   "display_name": "Python 3",
   "language": "python",
   "name": "python3"
  },
  "language_info": {
   "codemirror_mode": {
    "name": "ipython",
    "version": 3
   },
   "file_extension": ".py",
   "mimetype": "text/x-python",
   "name": "python",
   "nbconvert_exporter": "python",
   "pygments_lexer": "ipython3",
   "version": "3.12.1"
  }
 },
 "nbformat": 4,
 "nbformat_minor": 2
}
